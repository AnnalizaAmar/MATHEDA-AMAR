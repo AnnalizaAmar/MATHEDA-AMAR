{
 "cells": [
  {
   "cell_type": "markdown",
   "metadata": {},
   "source": [
    "# WK14 Cafe Sales Exploratory Data Analysis\n",
    "<hr style = \"border:2.5px solid #126782\"></hr>"
   ]
  },
  {
   "cell_type": "markdown",
   "metadata": {},
   "source": [
    "Name: **Annaliza T. Amar** <br>\n",
    "Course: **CPE2A**"
   ]
  },
  {
   "cell_type": "markdown",
   "metadata": {},
   "source": [
    "Import **pandas**, **numpy**, and **matplotlib** library"
   ]
  },
  {
   "cell_type": "code",
   "execution_count": 1,
   "metadata": {},
   "outputs": [],
   "source": [
    "import pandas as pd\n",
    "import numpy as np\n",
    "import matplotlib.pyplot as plt"
   ]
  },
  {
   "cell_type": "markdown",
   "metadata": {},
   "source": [
    "## Overview of the Dataset"
   ]
  },
  {
   "cell_type": "markdown",
   "metadata": {},
   "source": [
    "Load the \"**cafe-sales-dataset.csv**\""
   ]
  },
  {
   "cell_type": "code",
   "execution_count": 2,
   "metadata": {},
   "outputs": [
    {
     "name": "stdout",
     "output_type": "stream",
     "text": [
      "<class 'pandas.core.frame.DataFrame'>\n",
      "RangeIndex: 10000 entries, 0 to 9999\n",
      "Data columns (total 8 columns):\n",
      " #   Column            Non-Null Count  Dtype \n",
      "---  ------            --------------  ----- \n",
      " 0   Transaction ID    10000 non-null  object\n",
      " 1   Item              9667 non-null   object\n",
      " 2   Quantity          9862 non-null   object\n",
      " 3   Price Per Unit    9821 non-null   object\n",
      " 4   Total Spent       9827 non-null   object\n",
      " 5   Payment Method    7421 non-null   object\n",
      " 6   Location          6735 non-null   object\n",
      " 7   Transaction Date  9841 non-null   object\n",
      "dtypes: object(8)\n",
      "memory usage: 625.1+ KB\n"
     ]
    }
   ],
   "source": [
    "df = pd.read_csv(r\"..\\raw\\cafe-sales-dataset.csv\",\n",
    "                 delimiter=\",\")\n",
    "df.info()"
   ]
  },
  {
   "cell_type": "markdown",
   "metadata": {},
   "source": [
    "Display an **overview** of the dataset"
   ]
  },
  {
   "cell_type": "code",
   "execution_count": 3,
   "metadata": {},
   "outputs": [
    {
     "data": {
      "text/html": [
       "<div>\n",
       "<style scoped>\n",
       "    .dataframe tbody tr th:only-of-type {\n",
       "        vertical-align: middle;\n",
       "    }\n",
       "\n",
       "    .dataframe tbody tr th {\n",
       "        vertical-align: top;\n",
       "    }\n",
       "\n",
       "    .dataframe thead th {\n",
       "        text-align: right;\n",
       "    }\n",
       "</style>\n",
       "<table border=\"1\" class=\"dataframe\">\n",
       "  <thead>\n",
       "    <tr style=\"text-align: right;\">\n",
       "      <th></th>\n",
       "      <th>Transaction ID</th>\n",
       "      <th>Item</th>\n",
       "      <th>Quantity</th>\n",
       "      <th>Price Per Unit</th>\n",
       "      <th>Total Spent</th>\n",
       "      <th>Payment Method</th>\n",
       "      <th>Location</th>\n",
       "      <th>Transaction Date</th>\n",
       "    </tr>\n",
       "  </thead>\n",
       "  <tbody>\n",
       "    <tr>\n",
       "      <th>0</th>\n",
       "      <td>TXN_1961373</td>\n",
       "      <td>Coffee</td>\n",
       "      <td>2</td>\n",
       "      <td>2.0</td>\n",
       "      <td>4.0</td>\n",
       "      <td>Credit Card</td>\n",
       "      <td>Takeaway</td>\n",
       "      <td>2023-09-08</td>\n",
       "    </tr>\n",
       "    <tr>\n",
       "      <th>1</th>\n",
       "      <td>TXN_4977031</td>\n",
       "      <td>Cake</td>\n",
       "      <td>4</td>\n",
       "      <td>3.0</td>\n",
       "      <td>12.0</td>\n",
       "      <td>Cash</td>\n",
       "      <td>In-store</td>\n",
       "      <td>2023-05-16</td>\n",
       "    </tr>\n",
       "    <tr>\n",
       "      <th>2</th>\n",
       "      <td>TXN_4271903</td>\n",
       "      <td>Cookie</td>\n",
       "      <td>4</td>\n",
       "      <td>1.0</td>\n",
       "      <td>ERROR</td>\n",
       "      <td>Credit Card</td>\n",
       "      <td>In-store</td>\n",
       "      <td>2023-07-19</td>\n",
       "    </tr>\n",
       "    <tr>\n",
       "      <th>3</th>\n",
       "      <td>TXN_7034554</td>\n",
       "      <td>Salad</td>\n",
       "      <td>2</td>\n",
       "      <td>5.0</td>\n",
       "      <td>10.0</td>\n",
       "      <td>UNKNOWN</td>\n",
       "      <td>UNKNOWN</td>\n",
       "      <td>2023-04-27</td>\n",
       "    </tr>\n",
       "    <tr>\n",
       "      <th>4</th>\n",
       "      <td>TXN_3160411</td>\n",
       "      <td>Coffee</td>\n",
       "      <td>2</td>\n",
       "      <td>2.0</td>\n",
       "      <td>4.0</td>\n",
       "      <td>Digital Wallet</td>\n",
       "      <td>In-store</td>\n",
       "      <td>2023-06-11</td>\n",
       "    </tr>\n",
       "  </tbody>\n",
       "</table>\n",
       "</div>"
      ],
      "text/plain": [
       "  Transaction ID    Item Quantity Price Per Unit Total Spent  Payment Method  \\\n",
       "0    TXN_1961373  Coffee        2            2.0         4.0     Credit Card   \n",
       "1    TXN_4977031    Cake        4            3.0        12.0            Cash   \n",
       "2    TXN_4271903  Cookie        4            1.0       ERROR     Credit Card   \n",
       "3    TXN_7034554   Salad        2            5.0        10.0         UNKNOWN   \n",
       "4    TXN_3160411  Coffee        2            2.0         4.0  Digital Wallet   \n",
       "\n",
       "   Location Transaction Date  \n",
       "0  Takeaway       2023-09-08  \n",
       "1  In-store       2023-05-16  \n",
       "2  In-store       2023-07-19  \n",
       "3   UNKNOWN       2023-04-27  \n",
       "4  In-store       2023-06-11  "
      ]
     },
     "execution_count": 3,
     "metadata": {},
     "output_type": "execute_result"
    }
   ],
   "source": [
    "df.head()"
   ]
  },
  {
   "cell_type": "markdown",
   "metadata": {},
   "source": [
    "## Determining **Distinct** values"
   ]
  },
  {
   "cell_type": "code",
   "execution_count": 4,
   "metadata": {},
   "outputs": [
    {
     "data": {
      "text/plain": [
       "array(['TXN_1961373', 'TXN_4977031', 'TXN_4271903', ..., 'TXN_5255387',\n",
       "       'TXN_7695629', 'TXN_6170729'], shape=(10000,), dtype=object)"
      ]
     },
     "execution_count": 4,
     "metadata": {},
     "output_type": "execute_result"
    }
   ],
   "source": [
    "df['Transaction ID'].unique()"
   ]
  },
  {
   "cell_type": "code",
   "execution_count": 5,
   "metadata": {},
   "outputs": [
    {
     "data": {
      "text/plain": [
       "10000"
      ]
     },
     "execution_count": 5,
     "metadata": {},
     "output_type": "execute_result"
    }
   ],
   "source": [
    "df['Transaction ID'].nunique()"
   ]
  },
  {
   "cell_type": "code",
   "execution_count": 6,
   "metadata": {},
   "outputs": [
    {
     "data": {
      "text/plain": [
       "array(['Coffee', 'Cake', 'Cookie', 'Salad', 'Smoothie', 'UNKNOWN',\n",
       "       'Sandwich', nan, 'ERROR', 'Juice', 'Tea'], dtype=object)"
      ]
     },
     "execution_count": 6,
     "metadata": {},
     "output_type": "execute_result"
    }
   ],
   "source": [
    "df['Item'].unique()"
   ]
  },
  {
   "cell_type": "code",
   "execution_count": 7,
   "metadata": {},
   "outputs": [
    {
     "data": {
      "text/plain": [
       "10"
      ]
     },
     "execution_count": 7,
     "metadata": {},
     "output_type": "execute_result"
    }
   ],
   "source": [
    "df['Item'].nunique()"
   ]
  },
  {
   "cell_type": "code",
   "execution_count": 8,
   "metadata": {},
   "outputs": [
    {
     "data": {
      "text/plain": [
       "array(['2', '4', '5', '3', '1', 'ERROR', 'UNKNOWN', nan], dtype=object)"
      ]
     },
     "execution_count": 8,
     "metadata": {},
     "output_type": "execute_result"
    }
   ],
   "source": [
    "df['Quantity'].unique()"
   ]
  },
  {
   "cell_type": "code",
   "execution_count": 9,
   "metadata": {},
   "outputs": [
    {
     "data": {
      "text/plain": [
       "7"
      ]
     },
     "execution_count": 9,
     "metadata": {},
     "output_type": "execute_result"
    }
   ],
   "source": [
    "df['Quantity'].nunique()"
   ]
  },
  {
   "cell_type": "code",
   "execution_count": 10,
   "metadata": {},
   "outputs": [
    {
     "data": {
      "text/plain": [
       "array(['2.0', '3.0', '1.0', '5.0', '4.0', '1.5', nan, 'ERROR', 'UNKNOWN'],\n",
       "      dtype=object)"
      ]
     },
     "execution_count": 10,
     "metadata": {},
     "output_type": "execute_result"
    }
   ],
   "source": [
    "df['Price Per Unit'].unique()"
   ]
  },
  {
   "cell_type": "code",
   "execution_count": 11,
   "metadata": {},
   "outputs": [
    {
     "data": {
      "text/plain": [
       "8"
      ]
     },
     "execution_count": 11,
     "metadata": {},
     "output_type": "execute_result"
    }
   ],
   "source": [
    "df['Price Per Unit'].nunique()"
   ]
  },
  {
   "cell_type": "code",
   "execution_count": 12,
   "metadata": {},
   "outputs": [
    {
     "data": {
      "text/plain": [
       "array(['4.0', '12.0', 'ERROR', '10.0', '20.0', '9.0', '16.0', '15.0',\n",
       "       '25.0', '8.0', '5.0', '3.0', '6.0', nan, 'UNKNOWN', '2.0', '1.0',\n",
       "       '7.5', '4.5', '1.5'], dtype=object)"
      ]
     },
     "execution_count": 12,
     "metadata": {},
     "output_type": "execute_result"
    }
   ],
   "source": [
    "df['Total Spent'].unique()"
   ]
  },
  {
   "cell_type": "code",
   "execution_count": 13,
   "metadata": {},
   "outputs": [
    {
     "data": {
      "text/plain": [
       "19"
      ]
     },
     "execution_count": 13,
     "metadata": {},
     "output_type": "execute_result"
    }
   ],
   "source": [
    "df['Total Spent'].nunique()"
   ]
  },
  {
   "cell_type": "code",
   "execution_count": 14,
   "metadata": {},
   "outputs": [
    {
     "data": {
      "text/plain": [
       "array(['Credit Card', 'Cash', 'UNKNOWN', 'Digital Wallet', 'ERROR', nan],\n",
       "      dtype=object)"
      ]
     },
     "execution_count": 14,
     "metadata": {},
     "output_type": "execute_result"
    }
   ],
   "source": [
    "df['Payment Method'].unique()"
   ]
  },
  {
   "cell_type": "code",
   "execution_count": 15,
   "metadata": {},
   "outputs": [
    {
     "data": {
      "text/plain": [
       "5"
      ]
     },
     "execution_count": 15,
     "metadata": {},
     "output_type": "execute_result"
    }
   ],
   "source": [
    "df['Payment Method'].nunique()"
   ]
  },
  {
   "cell_type": "code",
   "execution_count": 16,
   "metadata": {},
   "outputs": [
    {
     "data": {
      "text/plain": [
       "array(['Takeaway', 'In-store', 'UNKNOWN', nan, 'ERROR'], dtype=object)"
      ]
     },
     "execution_count": 16,
     "metadata": {},
     "output_type": "execute_result"
    }
   ],
   "source": [
    "df['Location'].unique()"
   ]
  },
  {
   "cell_type": "code",
   "execution_count": 17,
   "metadata": {},
   "outputs": [
    {
     "data": {
      "text/plain": [
       "4"
      ]
     },
     "execution_count": 17,
     "metadata": {},
     "output_type": "execute_result"
    }
   ],
   "source": [
    "df['Location'].nunique()"
   ]
  },
  {
   "cell_type": "code",
   "execution_count": 18,
   "metadata": {},
   "outputs": [
    {
     "data": {
      "text/plain": [
       "array(['2023-09-08', '2023-05-16', '2023-07-19', '2023-04-27',\n",
       "       '2023-06-11', '2023-03-31', '2023-10-06', '2023-10-28',\n",
       "       '2023-07-28', '2023-12-31', '2023-11-07', 'ERROR', '2023-05-03',\n",
       "       '2023-06-01', '2023-03-21', '2023-11-15', '2023-06-10',\n",
       "       '2023-02-24', '2023-03-25', '2023-01-15', '2023-04-04',\n",
       "       '2023-03-30', '2023-12-01', '2023-09-18', '2023-06-03',\n",
       "       '2023-12-13', '2023-04-20', '2023-04-10', '2023-03-11',\n",
       "       '2023-06-02', '2023-11-06', '2023-08-15', '2023-10-09',\n",
       "       '2023-05-28', '2023-07-17', '2023-04-29', '2023-06-08',\n",
       "       '2023-06-29', '2023-04-17', '2023-12-22', '2023-01-10',\n",
       "       '2023-10-02', '2023-02-23', '2023-03-22', '2023-11-03',\n",
       "       '2023-03-02', '2023-06-26', '2023-05-02', '2023-09-05',\n",
       "       '2023-01-08', '2023-03-15', '2023-11-25', '2023-12-05',\n",
       "       '2023-03-19', '2023-06-27', '2023-04-19', '2023-10-07',\n",
       "       '2023-09-30', '2023-05-27', '2023-11-18', '2023-10-20',\n",
       "       '2023-10-03', '2023-10-27', '2023-04-06', '2023-01-31',\n",
       "       '2023-12-08', '2023-06-19', '2023-12-14', '2023-07-16',\n",
       "       '2023-02-22', nan, '2023-06-15', '2023-12-09', '2023-04-18',\n",
       "       '2023-10-29', '2023-04-30', '2023-04-02', '2023-05-24',\n",
       "       '2023-03-12', '2023-08-16', '2023-09-10', '2023-03-07',\n",
       "       '2023-08-07', '2023-08-20', '2023-04-15', '2023-07-25',\n",
       "       '2023-10-30', '2023-12-15', '2023-02-25', '2023-04-03',\n",
       "       '2023-10-08', '2023-12-28', '2023-08-30', '2023-02-03',\n",
       "       '2023-09-12', '2023-05-04', '2023-02-21', 'UNKNOWN', '2023-03-16',\n",
       "       '2023-02-06', '2023-03-29', '2023-06-18', '2023-09-23',\n",
       "       '2023-01-14', '2023-09-14', '2023-09-16', '2023-04-08',\n",
       "       '2023-12-19', '2023-07-14', '2023-12-12', '2023-01-05',\n",
       "       '2023-01-23', '2023-02-20', '2023-12-06', '2023-05-31',\n",
       "       '2023-08-11', '2023-09-03', '2023-07-11', '2023-06-06',\n",
       "       '2023-01-18', '2023-03-23', '2023-01-04', '2023-06-23',\n",
       "       '2023-08-03', '2023-07-12', '2023-11-02', '2023-07-31',\n",
       "       '2023-09-19', '2023-02-09', '2023-09-04', '2023-05-21',\n",
       "       '2023-07-02', '2023-07-10', '2023-11-21', '2023-12-02',\n",
       "       '2023-03-13', '2023-08-12', '2023-02-16', '2023-04-11',\n",
       "       '2023-03-26', '2023-11-01', '2023-07-22', '2023-07-26',\n",
       "       '2023-02-28', '2023-01-27', '2023-01-19', '2023-04-07',\n",
       "       '2023-03-20', '2023-12-27', '2023-10-26', '2023-02-18',\n",
       "       '2023-05-15', '2023-12-10', '2023-04-21', '2023-02-04',\n",
       "       '2023-11-12', '2023-08-05', '2023-05-10', '2023-07-15',\n",
       "       '2023-01-11', '2023-10-01', '2023-04-26', '2023-08-25',\n",
       "       '2023-03-01', '2023-11-13', '2023-07-09', '2023-05-13',\n",
       "       '2023-05-18', '2023-01-17', '2023-09-22', '2023-08-22',\n",
       "       '2023-07-27', '2023-12-30', '2023-12-21', '2023-09-28',\n",
       "       '2023-11-16', '2023-04-14', '2023-01-03', '2023-01-12',\n",
       "       '2023-08-31', '2023-07-07', '2023-09-15', '2023-10-21',\n",
       "       '2023-09-02', '2023-08-19', '2023-01-06', '2023-10-13',\n",
       "       '2023-05-29', '2023-05-22', '2023-11-23', '2023-10-15',\n",
       "       '2023-11-14', '2023-11-26', '2023-12-17', '2023-05-09',\n",
       "       '2023-10-22', '2023-06-30', '2023-04-25', '2023-02-19',\n",
       "       '2023-12-11', '2023-10-12', '2023-07-04', '2023-01-28',\n",
       "       '2023-10-04', '2023-02-26', '2023-10-11', '2023-02-14',\n",
       "       '2023-04-28', '2023-09-06', '2023-04-23', '2023-01-22',\n",
       "       '2023-03-10', '2023-01-09', '2023-12-03', '2023-08-06',\n",
       "       '2023-12-29', '2023-02-15', '2023-05-25', '2023-10-31',\n",
       "       '2023-02-27', '2023-03-03', '2023-09-27', '2023-08-18',\n",
       "       '2023-12-16', '2023-06-07', '2023-05-12', '2023-07-06',\n",
       "       '2023-06-20', '2023-08-09', '2023-05-14', '2023-07-18',\n",
       "       '2023-10-10', '2023-02-02', '2023-08-14', '2023-09-26',\n",
       "       '2023-01-13', '2023-10-16', '2023-11-17', '2023-12-20',\n",
       "       '2023-12-04', '2023-02-08', '2023-09-11', '2023-02-01',\n",
       "       '2023-02-12', '2023-03-14', '2023-09-29', '2023-04-22',\n",
       "       '2023-06-13', '2023-12-24', '2023-03-28', '2023-03-06',\n",
       "       '2023-02-11', '2023-01-30', '2023-04-09', '2023-04-16',\n",
       "       '2023-12-23', '2023-03-05', '2023-03-24', '2023-07-23',\n",
       "       '2023-07-29', '2023-06-05', '2023-10-19', '2023-01-07',\n",
       "       '2023-11-29', '2023-07-05', '2023-07-20', '2023-05-07',\n",
       "       '2023-08-10', '2023-10-24', '2023-08-13', '2023-08-28',\n",
       "       '2023-06-21', '2023-11-10', '2023-10-18', '2023-05-19',\n",
       "       '2023-11-09', '2023-06-24', '2023-05-11', '2023-12-07',\n",
       "       '2023-09-01', '2023-09-25', '2023-06-22', '2023-05-30',\n",
       "       '2023-04-24', '2023-09-20', '2023-02-07', '2023-05-05',\n",
       "       '2023-02-10', '2023-11-24', '2023-10-25', '2023-10-05',\n",
       "       '2023-07-21', '2023-07-08', '2023-03-17', '2023-10-14',\n",
       "       '2023-06-28', '2023-09-09', '2023-08-21', '2023-07-01',\n",
       "       '2023-06-14', '2023-03-09', '2023-11-08', '2023-12-26',\n",
       "       '2023-09-13', '2023-05-23', '2023-08-24', '2023-04-01',\n",
       "       '2023-06-09', '2023-08-23', '2023-08-08', '2023-08-27',\n",
       "       '2023-05-26', '2023-06-16', '2023-12-25', '2023-01-25',\n",
       "       '2023-10-23', '2023-05-06', '2023-01-29', '2023-08-29',\n",
       "       '2023-01-01', '2023-07-24', '2023-04-12', '2023-12-18',\n",
       "       '2023-09-21', '2023-05-01', '2023-02-05', '2023-01-24',\n",
       "       '2023-01-02', '2023-06-12', '2023-01-16', '2023-10-17',\n",
       "       '2023-03-04', '2023-06-17', '2023-03-18', '2023-08-26',\n",
       "       '2023-05-17', '2023-11-22', '2023-08-17', '2023-11-19',\n",
       "       '2023-11-27', '2023-06-04', '2023-09-17', '2023-11-04',\n",
       "       '2023-11-28', '2023-06-25', '2023-04-13', '2023-01-26',\n",
       "       '2023-08-04', '2023-05-08', '2023-11-20', '2023-07-13',\n",
       "       '2023-09-24', '2023-01-21', '2023-03-08', '2023-09-07',\n",
       "       '2023-11-30', '2023-08-02', '2023-04-05', '2023-08-01',\n",
       "       '2023-01-20', '2023-11-11', '2023-02-13', '2023-07-30',\n",
       "       '2023-02-17', '2023-05-20', '2023-11-05', '2023-03-27',\n",
       "       '2023-07-03'], dtype=object)"
      ]
     },
     "execution_count": 18,
     "metadata": {},
     "output_type": "execute_result"
    }
   ],
   "source": [
    "df['Transaction Date'].unique()"
   ]
  },
  {
   "cell_type": "code",
   "execution_count": 19,
   "metadata": {},
   "outputs": [
    {
     "data": {
      "text/plain": [
       "367"
      ]
     },
     "execution_count": 19,
     "metadata": {},
     "output_type": "execute_result"
    }
   ],
   "source": [
    "df['Transaction Date'].nunique()"
   ]
  },
  {
   "cell_type": "markdown",
   "metadata": {},
   "source": [
    "## Data Cleaning"
   ]
  },
  {
   "cell_type": "markdown",
   "metadata": {},
   "source": [
    "Determine the **count of NaN** (*Not a Number*) values"
   ]
  },
  {
   "cell_type": "code",
   "execution_count": 20,
   "metadata": {},
   "outputs": [
    {
     "data": {
      "text/plain": [
       "Transaction ID         0\n",
       "Item                 333\n",
       "Quantity             138\n",
       "Price Per Unit       179\n",
       "Total Spent          173\n",
       "Payment Method      2579\n",
       "Location            3265\n",
       "Transaction Date     159\n",
       "dtype: int64"
      ]
     },
     "execution_count": 20,
     "metadata": {},
     "output_type": "execute_result"
    }
   ],
   "source": [
    "df.isna().sum()"
   ]
  },
  {
   "cell_type": "markdown",
   "metadata": {},
   "source": [
    "**Convert** the columns to **numeric types**"
   ]
  },
  {
   "cell_type": "code",
   "execution_count": 21,
   "metadata": {},
   "outputs": [],
   "source": [
    "df['Quantity'] = pd.to_numeric(df['Quantity'], errors='coerce')\n",
    "df['Price Per Unit'] = pd.to_numeric(df['Price Per Unit'], errors='coerce')\n",
    "df['Total Spent'] = pd.to_numeric(df['Total Spent'], errors='coerce')\n",
    "df['Transaction Date'] = pd.to_datetime(df['Transaction Date'], errors='coerce')"
   ]
  },
  {
   "cell_type": "markdown",
   "metadata": {},
   "source": [
    "Dropping NaN"
   ]
  },
  {
   "cell_type": "code",
   "execution_count": 22,
   "metadata": {},
   "outputs": [
    {
     "data": {
      "text/plain": [
       "Transaction ID         0\n",
       "Item                 251\n",
       "Quantity             347\n",
       "Price Per Unit       393\n",
       "Total Spent          370\n",
       "Payment Method         0\n",
       "Location            2417\n",
       "Transaction Date     320\n",
       "dtype: int64"
      ]
     },
     "execution_count": 22,
     "metadata": {},
     "output_type": "execute_result"
    }
   ],
   "source": [
    "# Cleaning Payment Method\n",
    "df = df.dropna(subset=['Payment Method'])\n",
    "df.isna().sum()"
   ]
  },
  {
   "cell_type": "code",
   "execution_count": 23,
   "metadata": {},
   "outputs": [
    {
     "data": {
      "text/plain": [
       "Transaction ID        0\n",
       "Item                171\n",
       "Quantity            232\n",
       "Price Per Unit      264\n",
       "Total Spent         242\n",
       "Payment Method        0\n",
       "Location              0\n",
       "Transaction Date    211\n",
       "dtype: int64"
      ]
     },
     "execution_count": 23,
     "metadata": {},
     "output_type": "execute_result"
    }
   ],
   "source": [
    "# Cleaning Location\n",
    "df = df.dropna(subset=['Location'])\n",
    "df.isna().sum()"
   ]
  },
  {
   "cell_type": "code",
   "execution_count": 24,
   "metadata": {},
   "outputs": [
    {
     "data": {
      "text/plain": [
       "Transaction ID        0\n",
       "Item                171\n",
       "Quantity            232\n",
       "Price Per Unit      264\n",
       "Total Spent         242\n",
       "Payment Method        0\n",
       "Location              0\n",
       "Transaction Date    211\n",
       "dtype: int64"
      ]
     },
     "execution_count": 24,
     "metadata": {},
     "output_type": "execute_result"
    }
   ],
   "source": [
    "df = df.dropna(subset=['Payment Method','Location'])\n",
    "df.isna().sum()"
   ]
  },
  {
   "cell_type": "code",
   "execution_count": 25,
   "metadata": {},
   "outputs": [],
   "source": [
    "df['Payment Method'] = df['Payment Method'].replace({'ERROR': 'Other', 'UNKNOWN': 'Other'})\n",
    "df['Location'] = df['Location'].replace({'ERROR': 'Other', 'UNKNOWN': 'Other'})"
   ]
  },
  {
   "cell_type": "markdown",
   "metadata": {},
   "source": [
    "Replacing NaN with **Mean**"
   ]
  },
  {
   "cell_type": "code",
   "execution_count": 26,
   "metadata": {},
   "outputs": [
    {
     "name": "stdout",
     "output_type": "stream",
     "text": [
      "3.024518021793797\n"
     ]
    }
   ],
   "source": [
    "# Cleaning Quantity with mean\n",
    "quantity_mean = df['Quantity'].mean()\n",
    "print(quantity_mean)\n",
    "df['Quantity'] = df['Quantity'].fillna(quantity_mean)"
   ]
  },
  {
   "cell_type": "code",
   "execution_count": 27,
   "metadata": {},
   "outputs": [
    {
     "name": "stdout",
     "output_type": "stream",
     "text": [
      "2.953270042194093\n"
     ]
    }
   ],
   "source": [
    "# Cleaning Price Per Unit with mean\n",
    "price_mean = df['Price Per Unit'].mean()\n",
    "print(price_mean)\n",
    "df['Price Per Unit'] = df['Price Per Unit'].fillna(price_mean)"
   ]
  },
  {
   "cell_type": "code",
   "execution_count": 28,
   "metadata": {},
   "outputs": [
    {
     "name": "stdout",
     "output_type": "stream",
     "text": [
      "8.914846703065939\n"
     ]
    }
   ],
   "source": [
    "# Cleaning Total Spent with mean\n",
    "total_mean = df['Total Spent'].mean()\n",
    "print(total_mean)\n",
    "df['Total Spent'] = df['Total Spent'].fillna(total_mean)"
   ]
  },
  {
   "cell_type": "markdown",
   "metadata": {},
   "source": [
    "Replacing NaN with **Mode**"
   ]
  },
  {
   "cell_type": "code",
   "execution_count": 29,
   "metadata": {},
   "outputs": [
    {
     "name": "stdout",
     "output_type": "stream",
     "text": [
      "Salad\n"
     ]
    }
   ],
   "source": [
    "# Cleaning Item with mode\n",
    "item_mode = df['Item'].mode()[0]\n",
    "print(item_mode)\n",
    "df['Item'] = df['Item'].fillna(item_mode)\n",
    "df['Item'] = df['Item'].replace({'ERROR': item_mode, 'UNKNOWN': item_mode})"
   ]
  },
  {
   "cell_type": "code",
   "execution_count": 30,
   "metadata": {},
   "outputs": [
    {
     "name": "stdout",
     "output_type": "stream",
     "text": [
      "2023-03-13 00:00:00\n"
     ]
    }
   ],
   "source": [
    "# Cleaning Transaction Date with mode\n",
    "date_mode = df['Transaction Date'].mode()[0]\n",
    "print(date_mode)\n",
    "df['Transaction Date'] = df['Transaction Date'].fillna(date_mode)"
   ]
  },
  {
   "cell_type": "markdown",
   "metadata": {},
   "source": [
    "## **Saving** the Cleaned Dataset"
   ]
  },
  {
   "cell_type": "code",
   "execution_count": 31,
   "metadata": {},
   "outputs": [],
   "source": [
    "df.to_csv(r\"..\\raw\\cafe-sales-dataset-cleaned.csv\",index=False)"
   ]
  },
  {
   "cell_type": "markdown",
   "metadata": {},
   "source": [
    "Load the \"**cafe-sales-dataset-cleaned.csv**\""
   ]
  },
  {
   "cell_type": "code",
   "execution_count": 32,
   "metadata": {},
   "outputs": [
    {
     "name": "stdout",
     "output_type": "stream",
     "text": [
      "<class 'pandas.core.frame.DataFrame'>\n",
      "RangeIndex: 5004 entries, 0 to 5003\n",
      "Data columns (total 8 columns):\n",
      " #   Column            Non-Null Count  Dtype  \n",
      "---  ------            --------------  -----  \n",
      " 0   Transaction ID    5004 non-null   object \n",
      " 1   Item              5004 non-null   object \n",
      " 2   Quantity          5004 non-null   float64\n",
      " 3   Price Per Unit    5004 non-null   float64\n",
      " 4   Total Spent       5004 non-null   float64\n",
      " 5   Payment Method    5004 non-null   object \n",
      " 6   Location          5004 non-null   object \n",
      " 7   Transaction Date  5004 non-null   object \n",
      "dtypes: float64(3), object(5)\n",
      "memory usage: 312.9+ KB\n"
     ]
    }
   ],
   "source": [
    "df = pd.read_csv(r\"..\\raw\\cafe-sales-dataset-cleaned.csv\",\n",
    "                 delimiter=\",\")\n",
    "df.info()"
   ]
  },
  {
   "cell_type": "markdown",
   "metadata": {},
   "source": [
    "## Measures of Central Tendency"
   ]
  },
  {
   "cell_type": "markdown",
   "metadata": {},
   "source": [
    "Display the **mean**"
   ]
  },
  {
   "cell_type": "code",
   "execution_count": 33,
   "metadata": {},
   "outputs": [
    {
     "name": "stdout",
     "output_type": "stream",
     "text": [
      "3.0245180217937966\n"
     ]
    }
   ],
   "source": [
    "# Quantity mean\n",
    "quantity_mean = df['Quantity'].mean()\n",
    "print(quantity_mean)"
   ]
  },
  {
   "cell_type": "code",
   "execution_count": 34,
   "metadata": {},
   "outputs": [
    {
     "name": "stdout",
     "output_type": "stream",
     "text": [
      "2.953270042194093\n"
     ]
    }
   ],
   "source": [
    "# Price Per Unit mean\n",
    "price_mean = df['Price Per Unit'].mean()\n",
    "print(price_mean)"
   ]
  },
  {
   "cell_type": "code",
   "execution_count": 35,
   "metadata": {},
   "outputs": [
    {
     "name": "stdout",
     "output_type": "stream",
     "text": [
      "8.914846703065939\n"
     ]
    }
   ],
   "source": [
    "# Total Spent mean\n",
    "total_mean = df['Total Spent'].mean()\n",
    "print(total_mean)"
   ]
  },
  {
   "cell_type": "markdown",
   "metadata": {},
   "source": [
    "Display the **Median**"
   ]
  },
  {
   "cell_type": "code",
   "execution_count": 36,
   "metadata": {},
   "outputs": [
    {
     "name": "stdout",
     "output_type": "stream",
     "text": [
      "3.0\n"
     ]
    }
   ],
   "source": [
    "# Quantity median\n",
    "quantity_median = df['Quantity'].median()\n",
    "print(quantity_median)"
   ]
  },
  {
   "cell_type": "code",
   "execution_count": 37,
   "metadata": {},
   "outputs": [
    {
     "name": "stdout",
     "output_type": "stream",
     "text": [
      "3.0\n"
     ]
    }
   ],
   "source": [
    "# Price Per Unit median\n",
    "price_median = df['Price Per Unit'].median()\n",
    "print(price_median)"
   ]
  },
  {
   "cell_type": "code",
   "execution_count": 38,
   "metadata": {},
   "outputs": [
    {
     "name": "stdout",
     "output_type": "stream",
     "text": [
      "8.0\n"
     ]
    }
   ],
   "source": [
    "# Total Spent median\n",
    "total_median = df['Total Spent'].median()\n",
    "print(total_median)"
   ]
  },
  {
   "cell_type": "markdown",
   "metadata": {},
   "source": [
    "Display the **mode**"
   ]
  },
  {
   "cell_type": "code",
   "execution_count": 39,
   "metadata": {},
   "outputs": [
    {
     "name": "stdout",
     "output_type": "stream",
     "text": [
      "5.0\n"
     ]
    }
   ],
   "source": [
    "# Quantity mode\n",
    "quantity_mode = df['Quantity'].mode()[0]\n",
    "print(quantity_mode)"
   ]
  },
  {
   "cell_type": "code",
   "execution_count": 40,
   "metadata": {},
   "outputs": [
    {
     "name": "stdout",
     "output_type": "stream",
     "text": [
      "3.0\n"
     ]
    }
   ],
   "source": [
    "# Price Per Unit mode\n",
    "price_mode = df['Price Per Unit'].mode()[0]\n",
    "print(price_mode)"
   ]
  },
  {
   "cell_type": "code",
   "execution_count": 41,
   "metadata": {},
   "outputs": [
    {
     "name": "stdout",
     "output_type": "stream",
     "text": [
      "6.0\n"
     ]
    }
   ],
   "source": [
    "# Total Spent mode\n",
    "total_mode = df['Total Spent'].mode()[0]\n",
    "print(total_mode)"
   ]
  },
  {
   "cell_type": "markdown",
   "metadata": {},
   "source": [
    "## Measures of Variability"
   ]
  },
  {
   "cell_type": "markdown",
   "metadata": {},
   "source": [
    "Return the **range**"
   ]
  },
  {
   "cell_type": "code",
   "execution_count": 42,
   "metadata": {},
   "outputs": [
    {
     "name": "stdout",
     "output_type": "stream",
     "text": [
      "Quantity Range = 4.0\n"
     ]
    }
   ],
   "source": [
    "# Quantity range\n",
    "quantity_range = df['Quantity'].max() - df['Quantity'].min()\n",
    "print(\"Quantity Range = \" + str(quantity_range))"
   ]
  },
  {
   "cell_type": "code",
   "execution_count": 43,
   "metadata": {},
   "outputs": [
    {
     "name": "stdout",
     "output_type": "stream",
     "text": [
      "Price Per Unit Range = $ 4.0\n"
     ]
    }
   ],
   "source": [
    "# Price Per Unit range\n",
    "price_range = df['Price Per Unit'].max() - df['Price Per Unit'].min()\n",
    "print(\"Price Per Unit Range = $ \" + str(price_range))"
   ]
  },
  {
   "cell_type": "code",
   "execution_count": 44,
   "metadata": {},
   "outputs": [
    {
     "name": "stdout",
     "output_type": "stream",
     "text": [
      "Total Spent Range = $ 24.0\n"
     ]
    }
   ],
   "source": [
    "# Total Spent range\n",
    "total_range = df['Total Spent'].max() - df['Total Spent'].min()\n",
    "print(\"Total Spent Range = $ \" + str(total_range))"
   ]
  },
  {
   "cell_type": "markdown",
   "metadata": {},
   "source": [
    "Return the **variance**"
   ]
  },
  {
   "cell_type": "code",
   "execution_count": 45,
   "metadata": {},
   "outputs": [
    {
     "name": "stdout",
     "output_type": "stream",
     "text": [
      "Quantity Variance = 1.9064823888567113\n"
     ]
    }
   ],
   "source": [
    "# Quantity Variance\n",
    "quantity_variance = df['Quantity'].var()\n",
    "print(\"Quantity Variance = \" + str(quantity_variance))"
   ]
  },
  {
   "cell_type": "code",
   "execution_count": 46,
   "metadata": {},
   "outputs": [
    {
     "name": "stdout",
     "output_type": "stream",
     "text": [
      "Price Per Unit Variance = $ 1.5880270466412136\n"
     ]
    }
   ],
   "source": [
    "# Price Per Unit Variance\n",
    "price_variance = df['Price Per Unit'].var()\n",
    "print(\"Price Per Unit Variance = $ \" + str(price_variance))"
   ]
  },
  {
   "cell_type": "code",
   "execution_count": 47,
   "metadata": {},
   "outputs": [
    {
     "name": "stdout",
     "output_type": "stream",
     "text": [
      "Total Spent Variance = $ 34.49084955788392\n"
     ]
    }
   ],
   "source": [
    "# Total Spent Variance\n",
    "total_variance = df['Total Spent'].var()\n",
    "print(\"Total Spent Variance = $ \" + str(total_variance))"
   ]
  },
  {
   "cell_type": "markdown",
   "metadata": {},
   "source": [
    "Return the **standard deviation**"
   ]
  },
  {
   "cell_type": "code",
   "execution_count": 48,
   "metadata": {},
   "outputs": [
    {
     "name": "stdout",
     "output_type": "stream",
     "text": [
      "Quantity Standard Deviation = 1.4\n"
     ]
    }
   ],
   "source": [
    "# Quantity standard deviation\n",
    "quantity_sd = df['Quantity'].std()\n",
    "print(\"Quantity Standard Deviation = \" + str(quantity_sd.round(1)))"
   ]
  },
  {
   "cell_type": "code",
   "execution_count": 49,
   "metadata": {},
   "outputs": [
    {
     "name": "stdout",
     "output_type": "stream",
     "text": [
      "Price Per Unit Standard Deviation = $ 1.3\n"
     ]
    }
   ],
   "source": [
    "# Price Per Unit standard deviation\n",
    "price_sd = df['Price Per Unit'].std()\n",
    "print(\"Price Per Unit Standard Deviation = $ \" + str(price_sd.round(1)))"
   ]
  },
  {
   "cell_type": "code",
   "execution_count": 50,
   "metadata": {},
   "outputs": [
    {
     "name": "stdout",
     "output_type": "stream",
     "text": [
      "Total Spent Standard Deviation = $ 5.9\n"
     ]
    }
   ],
   "source": [
    "# Total Spent standard deviation\n",
    "total_sd = df['Total Spent'].std()\n",
    "print(\"Total Spent Standard Deviation = $ \" + str(total_sd.round(1)))"
   ]
  },
  {
   "cell_type": "markdown",
   "metadata": {},
   "source": [
    "Return the **coefficient of variance**"
   ]
  },
  {
   "cell_type": "code",
   "execution_count": 51,
   "metadata": {},
   "outputs": [
    {
     "name": "stdout",
     "output_type": "stream",
     "text": [
      "Quantity Coefficient of Variance = 0.46\n"
     ]
    }
   ],
   "source": [
    "# Quantity coefficient of variance\n",
    "quantity_cv = quantity_sd/df['Quantity'].mean()\n",
    "print (\"Quantity Coefficient of Variance = \" + str(quantity_cv.round(2)))"
   ]
  },
  {
   "cell_type": "code",
   "execution_count": 52,
   "metadata": {},
   "outputs": [
    {
     "name": "stdout",
     "output_type": "stream",
     "text": [
      "Price Per Unit Coefficient of Variance = 0.43\n"
     ]
    }
   ],
   "source": [
    "# Price Per Unit coefficient of variance\n",
    "price_cv = price_sd/df['Price Per Unit'].mean()\n",
    "print (\"Price Per Unit Coefficient of Variance = \" + str(price_cv.round(2)))"
   ]
  },
  {
   "cell_type": "code",
   "execution_count": 53,
   "metadata": {},
   "outputs": [
    {
     "name": "stdout",
     "output_type": "stream",
     "text": [
      "Total Spent Coefficient of Variance = 0.66\n"
     ]
    }
   ],
   "source": [
    "# Total Spent coefficient of variance\n",
    "total_cv = total_sd/df['Total Spent'].mean()\n",
    "print (\"Total Spent Coefficient of Variance = \" + str(total_cv.round(2)))"
   ]
  },
  {
   "cell_type": "markdown",
   "metadata": {},
   "source": [
    "Visualize the **Measures of Variability** using **Boxplot**"
   ]
  },
  {
   "cell_type": "code",
   "execution_count": 54,
   "metadata": {},
   "outputs": [
    {
     "data": {
      "image/png": "[encoded data removed]",
      "text/plain": [
       "<Figure size 640x480 with 1 Axes>"
      ]
     },
     "metadata": {},
     "output_type": "display_data"
    }
   ],
   "source": [
    "plt.boxplot(df['Quantity'])\n",
    "plt.title(\"Quantity Boxplot\")\n",
    "plt.xlabel(\"Quantity\")\n",
    "plt.ylabel(\"Count\")\n",
    "plt.xticks([])\n",
    "plt.show()"
   ]
  },
  {
   "cell_type": "code",
   "execution_count": 55,
   "metadata": {},
   "outputs": [
    {
     "data": {
      "image/png": "[encoded data removed]",
      "text/plain": [
       "<Figure size 600x400 with 1 Axes>"
      ]
     },
     "metadata": {},
     "output_type": "display_data"
    }
   ],
   "source": [
    "plt.figure(figsize=(6, 4))\n",
    "plt.boxplot(df['Price Per Unit'])\n",
    "plt.title(\"Price Per Unit Boxplot\")\n",
    "plt.xlabel(\"Price Per Unit\")\n",
    "plt.ylabel(\"Price in Dollar\")\n",
    "plt.xticks([])\n",
    "plt.show()"
   ]
  },
  {
   "cell_type": "code",
   "execution_count": 56,
   "metadata": {},
   "outputs": [
    {
     "data": {
      "image/png": "[encoded data removed]",
      "text/plain": [
       "<Figure size 600x400 with 1 Axes>"
      ]
     },
     "metadata": {},
     "output_type": "display_data"
    }
   ],
   "source": [
    "plt.figure(figsize=(6, 4))\n",
    "plt.boxplot(df['Total Spent'])\n",
    "plt.title(\"Total Spent Boxplot\")\n",
    "plt.xlabel(\"Total Spent\")\n",
    "plt.ylabel(\"Amount in Dollar\")\n",
    "plt.xticks([])\n",
    "plt.show()"
   ]
  },
  {
   "cell_type": "markdown",
   "metadata": {},
   "source": [
    "## Data Visualization"
   ]
  },
  {
   "cell_type": "markdown",
   "metadata": {},
   "source": [
    "### Item Sales Distribution"
   ]
  },
  {
   "cell_type": "code",
   "execution_count": 57,
   "metadata": {},
   "outputs": [
    {
     "data": {
      "text/plain": [
       "Item\n",
       "Salad       1082\n",
       "Juice        589\n",
       "Cookie       584\n",
       "Sandwich     583\n",
       "Cake         575\n",
       "Tea          547\n",
       "Coffee       529\n",
       "Smoothie     515\n",
       "Name: count, dtype: int64"
      ]
     },
     "execution_count": 57,
     "metadata": {},
     "output_type": "execute_result"
    }
   ],
   "source": [
    "item_counts = df['Item'].value_counts()\n",
    "item_counts"
   ]
  },
  {
   "cell_type": "code",
   "execution_count": 58,
   "metadata": {},
   "outputs": [
    {
     "data": {
      "image/png": "[encoded data removed]",
      "text/plain": [
       "<Figure size 1200x600 with 1 Axes>"
      ]
     },
     "metadata": {},
     "output_type": "display_data"
    }
   ],
   "source": [
    "num_bars = 8\n",
    "alphas = np.linspace(1, 0.3, num_bars)\n",
    "colors = [(0.502, 0.0588, 0.1843, alpha) for alpha in alphas]\n",
    "\n",
    "plt.figure(figsize=(12, 6))\n",
    "plt.bar(item_counts.index, item_counts.values, color=colors)\n",
    "plt.xticks(rotation=45)\n",
    "plt.title('Item Sales Distribution')\n",
    "plt.xlabel('Item')\n",
    "plt.ylabel('Count')\n",
    "plt.show()"
   ]
  },
  {
   "cell_type": "markdown",
   "metadata": {},
   "source": [
    "The bar chart shows the distribution of item sales, highlighting which products are the most and least popular. Some items have significantly higher sales, indicating customer favorites or bestsellers, while others are purchased less frequently. This insight can help guide inventory management, marketing strategies, and product promotion efforts to maximize revenue and meet customer demand."
   ]
  },
  {
   "cell_type": "markdown",
   "metadata": {},
   "source": [
    "### Revenue Trend Over Time"
   ]
  },
  {
   "cell_type": "code",
   "execution_count": 59,
   "metadata": {},
   "outputs": [
    {
     "data": {
      "text/plain": [
       "Transaction Date\n",
       "2023-01-01    149.414847\n",
       "2023-01-02    111.829693\n",
       "2023-01-03    100.659387\n",
       "2023-01-04    119.500000\n",
       "2023-01-05    276.000000\n",
       "                 ...    \n",
       "2023-12-27     98.500000\n",
       "2023-12-28    107.500000\n",
       "2023-12-29    112.829693\n",
       "2023-12-30    131.000000\n",
       "2023-12-31     89.329693\n",
       "Name: Total Spent, Length: 365, dtype: float64"
      ]
     },
     "execution_count": 59,
     "metadata": {},
     "output_type": "execute_result"
    }
   ],
   "source": [
    "df['Transaction Date'] = pd.to_datetime(df['Transaction Date'])\n",
    "revenue_trend = df.groupby(df['Transaction Date'].dt.date)['Total Spent'].sum()\n",
    "revenue_trend"
   ]
  },
  {
   "cell_type": "code",
   "execution_count": 60,
   "metadata": {},
   "outputs": [
    {
     "data": {
      "image/png": "[encoded data removed]",
      "text/plain": [
       "<Figure size 1200x600 with 1 Axes>"
      ]
     },
     "metadata": {},
     "output_type": "display_data"
    }
   ],
   "source": [
    "plt.figure(figsize=(12, 6))\n",
    "plt.plot(revenue_trend)\n",
    "plt.title('Total Revenue Over Time')\n",
    "plt.xlabel('Date')\n",
    "plt.ylabel('Total Revenue')\n",
    "plt.xticks(rotation=45)\n",
    "plt.grid()\n",
    "plt.show()"
   ]
  },
  {
   "cell_type": "markdown",
   "metadata": {},
   "source": [
    "The line chart illustrates the revenue trend over time, showing how total sales fluctuate across different dates. Noticeable spikes or drops in revenue could indicate seasonal trends, promotions, or shifts in customer behavior. Analyzing these patterns helps identify peak sales periods and informs strategic decisions for inventory, staffing, and marketing to optimize future revenue growth."
   ]
  },
  {
   "cell_type": "markdown",
   "metadata": {},
   "source": [
    "### Payment Method Breakdown"
   ]
  },
  {
   "cell_type": "code",
   "execution_count": 61,
   "metadata": {},
   "outputs": [
    {
     "data": {
      "text/plain": [
       "Payment Method\n",
       "Digital Wallet    1588\n",
       "Cash              1527\n",
       "Credit Card       1516\n",
       "Other              373\n",
       "Name: count, dtype: int64"
      ]
     },
     "execution_count": 61,
     "metadata": {},
     "output_type": "execute_result"
    }
   ],
   "source": [
    "payment_counts = df['Payment Method'].value_counts()\n",
    "payment_counts"
   ]
  },
  {
   "cell_type": "code",
   "execution_count": 62,
   "metadata": {},
   "outputs": [
    {
     "data": {
      "image/png": "[encoded data removed]",
      "text/plain": [
       "<Figure size 800x600 with 1 Axes>"
      ]
     },
     "metadata": {},
     "output_type": "display_data"
    }
   ],
   "source": [
    "plt.figure(figsize=(8, 6))\n",
    "plt.pie(payment_counts, labels=payment_counts.index, autopct='%1.1f%%', startangle=140, colors = [\"#e9ff70\", \"#ffd670\", \"#ff9770\", \"#ff70a6\"])\n",
    "plt.title('Payment Method Breakdown')\n",
    "plt.show()"
   ]
  },
  {
   "cell_type": "markdown",
   "metadata": {},
   "source": [
    "The pie chart illustrates the distribution of payment methods, showing how customers prefer to pay. The data highlights the most commonly used methods, helping to understand customer preferences and optimize payment options."
   ]
  },
  {
   "cell_type": "markdown",
   "metadata": {},
   "source": [
    "### Sales by Location"
   ]
  },
  {
   "cell_type": "code",
   "execution_count": 63,
   "metadata": {},
   "outputs": [
    {
     "data": {
      "text/plain": [
       "Location\n",
       "Other        4589.115708\n",
       "Takeaway    19661.547984\n",
       "In-store    20359.229210\n",
       "Name: Total Spent, dtype: float64"
      ]
     },
     "execution_count": 63,
     "metadata": {},
     "output_type": "execute_result"
    }
   ],
   "source": [
    "location_sales = df.groupby('Location')['Total Spent'].sum().sort_values()\n",
    "location_sales"
   ]
  },
  {
   "cell_type": "code",
   "execution_count": 64,
   "metadata": {},
   "outputs": [
    {
     "data": {
      "image/png": "[encoded data removed]",
      "text/plain": [
       "<Figure size 1200x600 with 1 Axes>"
      ]
     },
     "metadata": {},
     "output_type": "display_data"
    }
   ],
   "source": [
    "plt.figure(figsize=(12, 6))\n",
    "location_sales.plot(kind='bar', color =['#e76f51','#f4a261','#e9c46a'])\n",
    "plt.title('Total Sales by Location')\n",
    "plt.xlabel('Location')\n",
    "plt.ylabel('Total Revenue')\n",
    "plt.xticks(rotation=0)\n",
    "plt.show()"
   ]
  },
  {
   "cell_type": "markdown",
   "metadata": {},
   "source": [
    "The bar chart shows the total revenue generated at each location, revealing which branches or stores contribute the most to overall sales. Locations with higher revenue could indicate stronger customer demand, better product offerings, or more effective local marketing. Conversely, lower-performing locations might benefit from targeted promotions or operational adjustments. This insight helps guide decision-making for resource allocation and growth strategies."
   ]
  },
  {
   "cell_type": "markdown",
   "metadata": {},
   "source": [
    "### Quantity vs Total Spent"
   ]
  },
  {
   "cell_type": "code",
   "execution_count": 65,
   "metadata": {},
   "outputs": [
    {
     "data": {
      "image/png": "[encoded data removed]",
      "text/plain": [
       "<Figure size 1000x600 with 1 Axes>"
      ]
     },
     "metadata": {},
     "output_type": "display_data"
    }
   ],
   "source": [
    "plt.figure(figsize=(10, 6))\n",
    "plt.scatter(df['Quantity'], df['Total Spent'])\n",
    "plt.title('Quantity vs Total Spent')\n",
    "plt.xlabel('Quantity')\n",
    "plt.ylabel('Total Spent')\n",
    "plt.show()\n"
   ]
  },
  {
   "cell_type": "markdown",
   "metadata": {},
   "source": [
    "The scatter plot analysis reveals a clear positive correlation between Quantity and Total Spent, indicating that higher item quantities generally lead to higher spending. However, the presence of outliers suggests instances of high-priced items or bulk discounts. These insights provide valuable information about customer purchasing patterns, helping to identify potential pricing anomalies and better understand sales trends."
   ]
  },
  {
   "cell_type": "markdown",
   "metadata": {},
   "source": [
    "### Boxplot for Total Spent"
   ]
  },
  {
   "cell_type": "code",
   "execution_count": 66,
   "metadata": {},
   "outputs": [
    {
     "data": {
      "image/png": "[encoded data removed]",
      "text/plain": [
       "<Figure size 800x600 with 1 Axes>"
      ]
     },
     "metadata": {},
     "output_type": "display_data"
    }
   ],
   "source": [
    "plt.figure(figsize=(8, 6))\n",
    "plt.boxplot(df['Total Spent'].dropna(), vert=False)\n",
    "plt.title('Boxplot of Total Spent')\n",
    "plt.xlabel('Total Spent')\n",
    "plt.show()"
   ]
  },
  {
   "cell_type": "markdown",
   "metadata": {},
   "source": [
    "The boxplot of Total Spent shows that most customers spend within a typical range, but there are some unusually high transactions that stand out as outliers. These large purchases could be bulk orders or high-priced items that significantly boost revenue. Understanding this pattern helps identify big spenders who contribute more to overall sales, which can guide future marketing and pricing strategies."
   ]
  },
  {
   "cell_type": "markdown",
   "metadata": {},
   "source": [
    "### Histogram for Total Spent"
   ]
  },
  {
   "cell_type": "code",
   "execution_count": 67,
   "metadata": {},
   "outputs": [
    {
     "data": {
      "image/png": "[encoded data removed]",
      "text/plain": [
       "<Figure size 1000x600 with 1 Axes>"
      ]
     },
     "metadata": {},
     "output_type": "display_data"
    }
   ],
   "source": [
    "plt.figure(figsize=(10, 6))\n",
    "plt.hist(df['Total Spent'].dropna(), bins=30, edgecolor='black')\n",
    "plt.title('Distribution of Total Spent')\n",
    "plt.xlabel('Total Spent')\n",
    "plt.ylabel('Frequency')\n",
    "plt.grid(axis='y', alpha=0.5)\n",
    "plt.show()"
   ]
  },
  {
   "cell_type": "markdown",
   "metadata": {},
   "source": [
    "The histogram of Total Spent shows how transaction amounts are distributed. Most transactions fall within the lower spending ranges, meaning customers typically make smaller purchases. However, there are fewer transactions at higher spending amounts, indicating occasional large purchases. This distribution helps understand customer spending habits and highlights the presence of high-value transactions that can significantly impact overall revenue."
   ]
  },
  {
   "cell_type": "markdown",
   "metadata": {},
   "source": [
    "### Histogram for Quantity Sold"
   ]
  },
  {
   "cell_type": "code",
   "execution_count": 68,
   "metadata": {},
   "outputs": [
    {
     "data": {
      "image/png": "[encoded data removed]",
      "text/plain": [
       "<Figure size 1000x600 with 1 Axes>"
      ]
     },
     "metadata": {},
     "output_type": "display_data"
    }
   ],
   "source": [
    "plt.figure(figsize=(10, 6))\n",
    "plt.hist(df['Quantity'].dropna(), bins=30, edgecolor='black')\n",
    "plt.title('Distribution of Quantity Sold')\n",
    "plt.xlabel('Quantity')\n",
    "plt.ylabel('Frequency')\n",
    "plt.grid(axis='y', alpha=0.5)\n",
    "plt.show()"
   ]
  },
  {
   "cell_type": "markdown",
   "metadata": {},
   "source": [
    "The histogram for Quantity Sold shows that most transactions involve smaller quantities, with fewer instances of large bulk purchases. This suggests that typical customer behavior leans toward buying just a few items per visit, while occasional high-quantity sales contribute less frequently but could still drive significant revenue."
   ]
  },
  {
   "cell_type": "markdown",
   "metadata": {},
   "source": [
    "## Conclusion"
   ]
  },
  {
   "cell_type": "markdown",
   "metadata": {},
   "source": [
    "Through our exploratory data analysis, we uncovered valuable insights into cafe sales patterns. The distribution of **Quantity**, **Price Per Unit**, and **Total Spent** revealed potential outliers and variations in customer spending behavior. Sales trends showed revenue spikes on certain dates, suggesting promotional events or peak periods. **Payment methods** and **location-based sales** highlighted customer preferences, while item sales distributions identified the most and least popular products. These findings provide a solid foundation for making data-driven decisions, optimizing inventory, and refining sales strategies to maximize revenue."
   ]
  }
 ],
 "metadata": {
  "kernelspec": {
   "display_name": "Python 3",
   "language": "python",
   "name": "python3"
  },
  "language_info": {
   "codemirror_mode": {
    "name": "ipython",
    "version": 3
   },
   "file_extension": ".py",
   "mimetype": "text/x-python",
   "name": "python",
   "nbconvert_exporter": "python",
   "pygments_lexer": "ipython3",
   "version": "3.13.1"
  }
 },
 "nbformat": 4,
 "nbformat_minor": 2
}
